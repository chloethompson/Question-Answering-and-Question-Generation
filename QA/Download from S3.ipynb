{
 "cells": [
  {
   "cell_type": "code",
   "execution_count": null,
   "id": "unsigned-belfast",
   "metadata": {},
   "outputs": [],
   "source": [
    "import boto3\n",
    "\n",
    "s3 = boto3.client('s3')\n",
    "\n",
    "\n",
    "s3.download_file('qg-qa-zip', 'code.zip', 'code.zip')\n",
    "s3.download_file('qg-qa-zip', 'csv_pred.zip', 'csv_pred.zip')\n",
    "s3.download_file('qg-qa-zip', 'data.zip', 'data.zip')\n",
    "s3.download_file('qg-qa-zip', 'OG_Metrics.zip', 'OG_Metrics.zip')\n",
    "s3.download_file('qg-qa-zip', 'runs.zip', 'runs.zip')\n",
    "s3.download_file('qg-qa-zip', 'runs.zip', 'runs.zip')"
   ]
  }
 ],
 "metadata": {
  "kernelspec": {
   "display_name": "Python 3 (ipykernel)",
   "language": "python",
   "name": "python3"
  },
  "language_info": {
   "codemirror_mode": {
    "name": "ipython",
    "version": 3
   },
   "file_extension": ".py",
   "mimetype": "text/x-python",
   "name": "python",
   "nbconvert_exporter": "python",
   "pygments_lexer": "ipython3",
   "version": "3.9.13"
  }
 },
 "nbformat": 4,
 "nbformat_minor": 5
}
