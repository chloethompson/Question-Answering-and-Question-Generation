{
 "cells": [
  {
   "cell_type": "code",
   "execution_count": 1,
   "metadata": {
    "scrolled": true
   },
   "outputs": [
    {
     "name": "stdout",
     "output_type": "stream",
     "text": [
      "Requirement already satisfied: torch==1.7.1 in /home/ec2-user/anaconda3/envs/python3/lib/python3.6/site-packages (1.7.1)\n",
      "Requirement already satisfied: numpy in /home/ec2-user/anaconda3/envs/python3/lib/python3.6/site-packages (from torch==1.7.1) (1.19.5)\n",
      "Requirement already satisfied: typing-extensions in /home/ec2-user/anaconda3/envs/python3/lib/python3.6/site-packages (from torch==1.7.1) (3.7.4.3)\n",
      "Requirement already satisfied: dataclasses in /home/ec2-user/anaconda3/envs/python3/lib/python3.6/site-packages (from torch==1.7.1) (0.8)\n",
      "Requirement already satisfied: tensorflow==1.4.0 in /home/ec2-user/anaconda3/envs/python3/lib/python3.6/site-packages (1.4.0)\n",
      "Requirement already satisfied: tensorflow-tensorboard<0.5.0,>=0.4.0rc1 in /home/ec2-user/anaconda3/envs/python3/lib/python3.6/site-packages (from tensorflow==1.4.0) (0.4.0)\n",
      "Requirement already satisfied: enum34>=1.1.6 in /home/ec2-user/anaconda3/envs/python3/lib/python3.6/site-packages (from tensorflow==1.4.0) (1.1.10)\n",
      "Requirement already satisfied: wheel>=0.26 in /home/ec2-user/anaconda3/envs/python3/lib/python3.6/site-packages (from tensorflow==1.4.0) (0.36.2)\n",
      "Requirement already satisfied: six>=1.10.0 in /home/ec2-user/anaconda3/envs/python3/lib/python3.6/site-packages (from tensorflow==1.4.0) (1.15.0)\n",
      "Requirement already satisfied: protobuf>=3.3.0 in /home/ec2-user/anaconda3/envs/python3/lib/python3.6/site-packages (from tensorflow==1.4.0) (3.15.2)\n",
      "Requirement already satisfied: numpy>=1.12.1 in /home/ec2-user/anaconda3/envs/python3/lib/python3.6/site-packages (from tensorflow==1.4.0) (1.19.5)\n",
      "Requirement already satisfied: markdown>=2.6.8 in /home/ec2-user/anaconda3/envs/python3/lib/python3.6/site-packages (from tensorflow-tensorboard<0.5.0,>=0.4.0rc1->tensorflow==1.4.0) (3.3.4)\n",
      "Requirement already satisfied: werkzeug>=0.11.10 in /home/ec2-user/anaconda3/envs/python3/lib/python3.6/site-packages (from tensorflow-tensorboard<0.5.0,>=0.4.0rc1->tensorflow==1.4.0) (1.0.1)\n",
      "Requirement already satisfied: bleach==1.5.0 in /home/ec2-user/anaconda3/envs/python3/lib/python3.6/site-packages (from tensorflow-tensorboard<0.5.0,>=0.4.0rc1->tensorflow==1.4.0) (1.5.0)\n",
      "Requirement already satisfied: html5lib==0.9999999 in /home/ec2-user/anaconda3/envs/python3/lib/python3.6/site-packages (from tensorflow-tensorboard<0.5.0,>=0.4.0rc1->tensorflow==1.4.0) (0.9999999)\n",
      "Requirement already satisfied: importlib-metadata in /home/ec2-user/anaconda3/envs/python3/lib/python3.6/site-packages (from markdown>=2.6.8->tensorflow-tensorboard<0.5.0,>=0.4.0rc1->tensorflow==1.4.0) (3.7.0)\n",
      "Requirement already satisfied: zipp>=0.5 in /home/ec2-user/anaconda3/envs/python3/lib/python3.6/site-packages (from importlib-metadata->markdown>=2.6.8->tensorflow-tensorboard<0.5.0,>=0.4.0rc1->tensorflow==1.4.0) (3.4.0)\n",
      "Requirement already satisfied: typing-extensions>=3.6.4 in /home/ec2-user/anaconda3/envs/python3/lib/python3.6/site-packages (from importlib-metadata->markdown>=2.6.8->tensorflow-tensorboard<0.5.0,>=0.4.0rc1->tensorflow==1.4.0) (3.7.4.3)\n"
     ]
    }
   ],
   "source": [
    "#!pip install transformers==3.5.0\n",
    "!pip install torch==1.7.1\n",
    "!pip install tensorflow==1.4.0"
   ]
  },
  {
   "cell_type": "code",
   "execution_count": 10,
   "metadata": {
    "scrolled": true
   },
   "outputs": [
    {
     "name": "stderr",
     "output_type": "stream",
     "text": [
      "/home/ec2-user/anaconda3/envs/python3/lib/python3.6/site-packages/tensorflow/python/framework/dtypes.py:469: FutureWarning: Passing (type, 1) or '1type' as a synonym of type is deprecated; in a future version of numpy, it will be understood as (type, (1,)) / '(1,)type'.\n",
      "  _np_qint8 = np.dtype([(\"qint8\", np.int8, 1)])\n",
      "/home/ec2-user/anaconda3/envs/python3/lib/python3.6/site-packages/tensorflow/python/framework/dtypes.py:470: FutureWarning: Passing (type, 1) or '1type' as a synonym of type is deprecated; in a future version of numpy, it will be understood as (type, (1,)) / '(1,)type'.\n",
      "  _np_quint8 = np.dtype([(\"quint8\", np.uint8, 1)])\n",
      "/home/ec2-user/anaconda3/envs/python3/lib/python3.6/site-packages/tensorflow/python/framework/dtypes.py:471: FutureWarning: Passing (type, 1) or '1type' as a synonym of type is deprecated; in a future version of numpy, it will be understood as (type, (1,)) / '(1,)type'.\n",
      "  _np_qint16 = np.dtype([(\"qint16\", np.int16, 1)])\n",
      "/home/ec2-user/anaconda3/envs/python3/lib/python3.6/site-packages/tensorflow/python/framework/dtypes.py:472: FutureWarning: Passing (type, 1) or '1type' as a synonym of type is deprecated; in a future version of numpy, it will be understood as (type, (1,)) / '(1,)type'.\n",
      "  _np_quint16 = np.dtype([(\"quint16\", np.uint16, 1)])\n",
      "/home/ec2-user/anaconda3/envs/python3/lib/python3.6/site-packages/tensorflow/python/framework/dtypes.py:473: FutureWarning: Passing (type, 1) or '1type' as a synonym of type is deprecated; in a future version of numpy, it will be understood as (type, (1,)) / '(1,)type'.\n",
      "  _np_qint32 = np.dtype([(\"qint32\", np.int32, 1)])\n",
      "/home/ec2-user/anaconda3/envs/python3/lib/python3.6/site-packages/tensorflow/python/framework/dtypes.py:476: FutureWarning: Passing (type, 1) or '1type' as a synonym of type is deprecated; in a future version of numpy, it will be understood as (type, (1,)) / '(1,)type'.\n",
      "  np_resource = np.dtype([(\"resource\", np.ubyte, 1)])\n",
      "/home/ec2-user/anaconda3/envs/python3/lib/python3.6/importlib/_bootstrap.py:219: RuntimeWarning: compiletime version 3.5 of module 'tensorflow.python.framework.fast_tensor_util' does not match runtime version 3.6\n",
      "  return f(*args, **kwds)\n"
     ]
    }
   ],
   "source": [
    "from transformers import AutoModelForQuestionAnswering\n",
    "from transformers import AutoTokenizer\n",
    "import torch\n",
    "import pandas as pd\n",
    "import os \n",
    "import json\n",
    "import tensorflow as tf"
   ]
  },
  {
   "cell_type": "code",
   "execution_count": 11,
   "metadata": {},
   "outputs": [],
   "source": [
    "import datetime\n",
    "import time"
   ]
  },
  {
   "cell_type": "code",
   "execution_count": 3,
   "metadata": {},
   "outputs": [
    {
     "name": "stdout",
     "output_type": "stream",
     "text": [
      "1.7.1\n"
     ]
    }
   ],
   "source": [
    "print(torch.__version__)"
   ]
  },
  {
   "cell_type": "markdown",
   "metadata": {},
   "source": [
    "## Model Functions\n",
    "\n",
    "Loads model from checkpoints and config file  "
   ]
  },
  {
   "cell_type": "code",
   "execution_count": 5,
   "metadata": {},
   "outputs": [],
   "source": [
    "def load_model(file_path):\n",
    "    \n",
    "    model = AutoModelForQuestionAnswering.from_pretrained(file_path)\n",
    "    \n",
    "    return model "
   ]
  },
  {
   "cell_type": "code",
   "execution_count": 6,
   "metadata": {},
   "outputs": [],
   "source": [
    "def perform_answering(val_df, model, tokenizer):\n",
    "\n",
    "    all_answers = []\n",
    "    \n",
    "    for i, row in val_df.iterrows():\n",
    "        \n",
    "        text = row['context']\n",
    "        question = row['question']\n",
    "        \n",
    "        inputs = tokenizer.encode_plus(question, text, add_special_tokens=True, return_tensors=\"pt\", truncation=True)\n",
    "        input_ids = inputs[\"input_ids\"].tolist()[0]\n",
    "\n",
    "        text_tokens = tokenizer.convert_ids_to_tokens(input_ids)\n",
    "        answer_start_scores, answer_end_scores = model(**inputs)\n",
    "\n",
    "        answer_start = torch.argmax(\n",
    "            answer_start_scores\n",
    "        )  # Get the most likely beginning of answer with the argmax of the score\n",
    "        answer_end = torch.argmax(answer_end_scores) + 1  # Get the most likely end of answer with the argmax of the score\n",
    "\n",
    "        answer = tokenizer.convert_tokens_to_string(tokenizer.convert_ids_to_tokens(input_ids[answer_start:answer_end]))\n",
    "\n",
    "        #print(f\"Question: {question}\")\n",
    "        #print(f\"Answer: {answer}\\n\")\n",
    "        \n",
    "        all_answers.append(answer)\n",
    "        \n",
    "    return all_answers\n",
    "        "
   ]
  },
  {
   "cell_type": "code",
   "execution_count": 51,
   "metadata": {},
   "outputs": [],
   "source": [
    "def unpack_squad_val(data, col):\n",
    "    contexts = []\n",
    "    questions = []\n",
    "    answers_text = []\n",
    "    answers_start = []\n",
    "    for i in range(data.shape[0]):\n",
    "        topic = data.iloc[i,1]['paragraphs']\n",
    "        for sub_para in topic:\n",
    "            for q_a in sub_para['qas']:\n",
    "                if(q_a['answers']):\n",
    "                    questions.append(q_a['question'])\n",
    "                    answers_start.append(q_a['answers'][col]['answer_start'])\n",
    "                    answers_text.append(q_a['answers'][col]['text'])\n",
    "                    contexts.append(sub_para['context'])   \n",
    "    return contexts, questions, answers_text, answers_start "
   ]
  },
  {
   "cell_type": "code",
   "execution_count": 43,
   "metadata": {},
   "outputs": [],
   "source": [
    "def find_original_qs(gen_df, val_df):\n",
    "    \n",
    "    # find the matching contexts and their questions \n",
    "    matches = []\n",
    "    for idx, rows in gen_df.iterrows():\n",
    "        inner_matches = []\n",
    "        string = rows['context']\n",
    "\n",
    "        for idx, row2 in val_df.iterrows():\n",
    "            if row2['context'] in string:\n",
    "                inner_matches.append(row2['question'])\n",
    "\n",
    "        matches.append(inner_matches)\n",
    "    \n",
    "    return matches"
   ]
  },
  {
   "cell_type": "code",
   "execution_count": 8,
   "metadata": {},
   "outputs": [],
   "source": [
    "tokenizer = AutoTokenizer.from_pretrained(\"bert-large-uncased-whole-word-masking-finetuned-squad\")"
   ]
  },
  {
   "cell_type": "markdown",
   "metadata": {},
   "source": [
    "## Model Metrics"
   ]
  },
  {
   "cell_type": "code",
   "execution_count": 99,
   "metadata": {},
   "outputs": [],
   "source": [
    "def extract_metrics(filename):\n",
    "\n",
    "    model_compare = []\n",
    "\n",
    "    with open(filename,'r') as f:\n",
    "        lines = f.readlines()\n",
    "        \n",
    "        # extract training time \n",
    "        start = lines[3][18:]\n",
    "        end = lines[len(lines)-1][16:]\n",
    "        start_time = datetime.datetime.strptime(start[:-9], '%y-%m-%d %H:%M:%S')\n",
    "        end_time = datetime.datetime.strptime(end[:-9], '%y-%m-%d %H:%M:%S')\n",
    "        train_time = end_time-start_time\n",
    "\n",
    "        model_params = str(lines[0]).replace(\"'\", '\"')\n",
    "        json_str = str(lines[5]).replace(\"'\", '\"')\n",
    "\n",
    "        #print(json.loads(model_params))\n",
    "        #print(json.loads(json_str))\n",
    "\n",
    "        model_compare.append([str(model_params), json.loads(json_str), str(train_time)])\n",
    "        \n",
    "    return model_compare"
   ]
  },
  {
   "cell_type": "code",
   "execution_count": 100,
   "metadata": {},
   "outputs": [],
   "source": [
    "def read_metric_files(directory): \n",
    "    model_arr = []\n",
    "    for file in os.listdir(directory):\n",
    "        if file.endswith(\".txt\"): \n",
    "            text_name = directory + \"/\" + file\n",
    "            model_arr.extend(extract_metrics(text_name))\n",
    "            \n",
    "    return model_arr"
   ]
  },
  {
   "cell_type": "code",
   "execution_count": 101,
   "metadata": {},
   "outputs": [],
   "source": [
    "def comparison_tbl(model_arr):\n",
    "    \n",
    "    comparison_tbl = pd.DataFrame(model_arr, columns=[\"Parameters\", \"Data\", \"Train Time\"]) \n",
    "    \n",
    "    data_expanded = pd.json_normalize(comparison_tbl['Data'])\n",
    "\n",
    "    comparison_tbl = pd.concat([comparison_tbl, data_expanded],axis=1)\n",
    "    \n",
    "    return comparison_tbl"
   ]
  },
  {
   "cell_type": "markdown",
   "metadata": {},
   "source": [
    "### Create Metric Files "
   ]
  },
  {
   "cell_type": "code",
   "execution_count": 102,
   "metadata": {},
   "outputs": [],
   "source": [
    "model_arr = read_metric_files('results/Hypertuning/SQUAD/Metrics')"
   ]
  },
  {
   "cell_type": "code",
   "execution_count": 103,
   "metadata": {},
   "outputs": [],
   "source": [
    "metric_table = comparison_tbl(model_arr)"
   ]
  },
  {
   "cell_type": "code",
   "execution_count": 106,
   "metadata": {},
   "outputs": [],
   "source": [
    "metric_table.to_csv(\"results/Hypertuning/squad_metrics_V3.csv\", sep=\",\")"
   ]
  },
  {
   "cell_type": "code",
   "execution_count": 107,
   "metadata": {},
   "outputs": [],
   "source": [
    "model_arr = read_metric_files('results/Hypertuning/QUAC/QUAC Metrics')"
   ]
  },
  {
   "cell_type": "code",
   "execution_count": 108,
   "metadata": {},
   "outputs": [],
   "source": [
    "metric_table = comparison_tbl(model_arr)"
   ]
  },
  {
   "cell_type": "code",
   "execution_count": 109,
   "metadata": {},
   "outputs": [],
   "source": [
    "metric_table.to_csv(\"results/Hypertuning/quac_metrics_V3.csv\", sep=\",\")"
   ]
  },
  {
   "cell_type": "markdown",
   "metadata": {},
   "source": [
    "## SQuAD Testing"
   ]
  },
  {
   "cell_type": "code",
   "execution_count": 12,
   "metadata": {},
   "outputs": [],
   "source": [
    "squad_eval_data = \"../Data/SQUAD/dev-v2.0.json\""
   ]
  },
  {
   "cell_type": "code",
   "execution_count": 13,
   "metadata": {},
   "outputs": [],
   "source": [
    "base_squad_trained = load_model('results/Hypertuning/SQUAD/hypertune_8/')"
   ]
  },
  {
   "cell_type": "code",
   "execution_count": 14,
   "metadata": {},
   "outputs": [],
   "source": [
    "ground_truth_squad = pd.read_json(squad_eval_data) \n",
    "    \n",
    "contexts, questions, answers_text, answers_start = unpack_squad_val(ground_truth_squad, 0)\n",
    "   \n",
    "squad_val_data = pd.DataFrame({\"context\":contexts, \"question\": questions, \"answer_start\": answers_start, \"text\": answers_text})\n",
    "    "
   ]
  },
  {
   "cell_type": "code",
   "execution_count": 25,
   "metadata": {
    "scrolled": true
   },
   "outputs": [],
   "source": [
    "pred = perform_answering(squad_val_data, base_squad_trained, tokenizer)"
   ]
  },
  {
   "cell_type": "code",
   "execution_count": 26,
   "metadata": {},
   "outputs": [],
   "source": [
    "squad_val_data['pred'] = pred\n",
    "#squad_val_data.to_csv(\"csv_pred/hypertune_8.csv\", sep=\",\")"
   ]
  },
  {
   "cell_type": "code",
   "execution_count": 27,
   "metadata": {},
   "outputs": [],
   "source": [
    "squad_val_data.to_csv(\"csv_pred/hypertune_8.csv\", sep=\",\")"
   ]
  },
  {
   "cell_type": "code",
   "execution_count": 38,
   "metadata": {},
   "outputs": [],
   "source": [
    "# getting max length of context \n",
    "#val_data.context.map(lambda x: len(x)).max()"
   ]
  },
  {
   "cell_type": "markdown",
   "metadata": {},
   "source": [
    "## QuAC Training "
   ]
  },
  {
   "cell_type": "code",
   "execution_count": 54,
   "metadata": {},
   "outputs": [],
   "source": [
    "quac_eval_data = \"../Data/QUAC/val_v0.2_edited.json\""
   ]
  },
  {
   "cell_type": "code",
   "execution_count": 55,
   "metadata": {},
   "outputs": [],
   "source": [
    "base_quac_trained = load_model('results/Hypertuning/QUAC/hypertune_12/')"
   ]
  },
  {
   "cell_type": "code",
   "execution_count": 56,
   "metadata": {},
   "outputs": [],
   "source": [
    "ground_truth_quac = pd.read_json(quac_eval_data) \n",
    "    \n",
    "contexts, questions, answers_text, answers_start = unpack_squad_val(ground_truth_quac, 0)\n",
    "   \n",
    "quac_val_data = pd.DataFrame({\"context\":contexts, \"question\": questions, \"answer_start\": answers_start, \"text\": answers_text})\n"
   ]
  },
  {
   "cell_type": "code",
   "execution_count": 57,
   "metadata": {},
   "outputs": [],
   "source": [
    "quac_pred = perform_answering(val_data, base_quac_trained, tokenizer)"
   ]
  },
  {
   "cell_type": "code",
   "execution_count": 58,
   "metadata": {},
   "outputs": [],
   "source": [
    "quac_val_data['pred'] = quac_pred\n"
   ]
  },
  {
   "cell_type": "code",
   "execution_count": 59,
   "metadata": {},
   "outputs": [],
   "source": [
    "quac_val_data.to_csv(\"csv_pred/quac_hypertune_12.csv\", sep=\",\")"
   ]
  },
  {
   "cell_type": "markdown",
   "metadata": {},
   "source": [
    "# Generated SQuAD Predictions"
   ]
  },
  {
   "cell_type": "code",
   "execution_count": 33,
   "metadata": {},
   "outputs": [],
   "source": [
    "squad_gen = pd.read_csv('results/squad_gen.csv', index_col=0)\n",
    "squad_gen.columns = ['context', 'question']"
   ]
  },
  {
   "cell_type": "code",
   "execution_count": 34,
   "metadata": {},
   "outputs": [
    {
     "data": {
      "text/html": [
       "<div>\n",
       "<style scoped>\n",
       "    .dataframe tbody tr th:only-of-type {\n",
       "        vertical-align: middle;\n",
       "    }\n",
       "\n",
       "    .dataframe tbody tr th {\n",
       "        vertical-align: top;\n",
       "    }\n",
       "\n",
       "    .dataframe thead th {\n",
       "        text-align: right;\n",
       "    }\n",
       "</style>\n",
       "<table border=\"1\" class=\"dataframe\">\n",
       "  <thead>\n",
       "    <tr style=\"text-align: right;\">\n",
       "      <th></th>\n",
       "      <th>context</th>\n",
       "      <th>question</th>\n",
       "    </tr>\n",
       "  </thead>\n",
       "  <tbody>\n",
       "    <tr>\n",
       "      <th>0</th>\n",
       "      <td>The Normans (Norman: Nourmands; French: Norman...</td>\n",
       "      <td>What is the first name of the Normans?</td>\n",
       "    </tr>\n",
       "    <tr>\n",
       "      <th>1</th>\n",
       "      <td>The Normans (Norman: Nourmands; French: Norman...</td>\n",
       "      <td>What was the first name given to the Normans?</td>\n",
       "    </tr>\n",
       "    <tr>\n",
       "      <th>2</th>\n",
       "      <td>The Normans (Norman: Nourmands; French: Norman...</td>\n",
       "      <td>Who was the leader of the Normans?</td>\n",
       "    </tr>\n",
       "    <tr>\n",
       "      <th>3</th>\n",
       "      <td>The Normans (Norman: Nourmands; French: Norman...</td>\n",
       "      <td>What was the name of the nation that gave the...</td>\n",
       "    </tr>\n",
       "    <tr>\n",
       "      <th>4</th>\n",
       "      <td>The Normans (Norman: Nourmands; French: Norman...</td>\n",
       "      <td>What did the Normans come from?</td>\n",
       "    </tr>\n",
       "    <tr>\n",
       "      <th>...</th>\n",
       "      <td>...</td>\n",
       "      <td>...</td>\n",
       "    </tr>\n",
       "    <tr>\n",
       "      <th>6628</th>\n",
       "      <td>The pound-force has a metric counterpart, less...</td>\n",
       "      <td>What is the kilogram-force equivalent to?</td>\n",
       "    </tr>\n",
       "    <tr>\n",
       "      <th>6629</th>\n",
       "      <td>The pound-force has a metric counterpart, less...</td>\n",
       "      <td>What is the mug?</td>\n",
       "    </tr>\n",
       "    <tr>\n",
       "      <th>6630</th>\n",
       "      <td>The pound-force has a metric counterpart, less...</td>\n",
       "      <td>What is the ball?</td>\n",
       "    </tr>\n",
       "    <tr>\n",
       "      <th>6631</th>\n",
       "      <td>The pound-force has a metric counterpart, less...</td>\n",
       "      <td>What is the kip?</td>\n",
       "    </tr>\n",
       "    <tr>\n",
       "      <th>6632</th>\n",
       "      <td>The pound-force has a metric counterpart, less...</td>\n",
       "      <td>None</td>\n",
       "    </tr>\n",
       "  </tbody>\n",
       "</table>\n",
       "<p>6633 rows × 2 columns</p>\n",
       "</div>"
      ],
      "text/plain": [
       "                                                context  \\\n",
       "0     The Normans (Norman: Nourmands; French: Norman...   \n",
       "1     The Normans (Norman: Nourmands; French: Norman...   \n",
       "2     The Normans (Norman: Nourmands; French: Norman...   \n",
       "3     The Normans (Norman: Nourmands; French: Norman...   \n",
       "4     The Normans (Norman: Nourmands; French: Norman...   \n",
       "...                                                 ...   \n",
       "6628  The pound-force has a metric counterpart, less...   \n",
       "6629  The pound-force has a metric counterpart, less...   \n",
       "6630  The pound-force has a metric counterpart, less...   \n",
       "6631  The pound-force has a metric counterpart, less...   \n",
       "6632  The pound-force has a metric counterpart, less...   \n",
       "\n",
       "                                               question  \n",
       "0               What is the first name of the Normans?   \n",
       "1        What was the first name given to the Normans?   \n",
       "2                   Who was the leader of the Normans?   \n",
       "3      What was the name of the nation that gave the...  \n",
       "4                      What did the Normans come from?   \n",
       "...                                                 ...  \n",
       "6628         What is the kilogram-force equivalent to?   \n",
       "6629                                  What is the mug?   \n",
       "6630                                 What is the ball?   \n",
       "6631                                  What is the kip?   \n",
       "6632                                               None  \n",
       "\n",
       "[6633 rows x 2 columns]"
      ]
     },
     "execution_count": 34,
     "metadata": {},
     "output_type": "execute_result"
    }
   ],
   "source": [
    "squad_gen"
   ]
  },
  {
   "cell_type": "code",
   "execution_count": 35,
   "metadata": {},
   "outputs": [],
   "source": [
    "squad_gen_pred = perform_answering(squad_gen, base_squad_trained, tokenizer)"
   ]
  },
  {
   "cell_type": "code",
   "execution_count": 37,
   "metadata": {},
   "outputs": [],
   "source": [
    "squad_gen['pred'] = squad_gen_pred"
   ]
  },
  {
   "cell_type": "code",
   "execution_count": 40,
   "metadata": {},
   "outputs": [],
   "source": [
    "squad_gen['original questions'] = find_original_qs(squad_gen, squad_val_data)"
   ]
  },
  {
   "cell_type": "code",
   "execution_count": 41,
   "metadata": {},
   "outputs": [
    {
     "data": {
      "text/html": [
       "<div>\n",
       "<style scoped>\n",
       "    .dataframe tbody tr th:only-of-type {\n",
       "        vertical-align: middle;\n",
       "    }\n",
       "\n",
       "    .dataframe tbody tr th {\n",
       "        vertical-align: top;\n",
       "    }\n",
       "\n",
       "    .dataframe thead th {\n",
       "        text-align: right;\n",
       "    }\n",
       "</style>\n",
       "<table border=\"1\" class=\"dataframe\">\n",
       "  <thead>\n",
       "    <tr style=\"text-align: right;\">\n",
       "      <th></th>\n",
       "      <th>context</th>\n",
       "      <th>question</th>\n",
       "      <th>pred</th>\n",
       "      <th>original questions</th>\n",
       "    </tr>\n",
       "  </thead>\n",
       "  <tbody>\n",
       "    <tr>\n",
       "      <th>0</th>\n",
       "      <td>The Normans (Norman: Nourmands; French: Norman...</td>\n",
       "      <td>What is the first name of the Normans?</td>\n",
       "      <td>nourmands</td>\n",
       "      <td>[In what country is Normandy located?, When we...</td>\n",
       "    </tr>\n",
       "    <tr>\n",
       "      <th>1</th>\n",
       "      <td>The Normans (Norman: Nourmands; French: Norman...</td>\n",
       "      <td>What was the first name given to the Normans?</td>\n",
       "      <td>nourmands</td>\n",
       "      <td>[In what country is Normandy located?, When we...</td>\n",
       "    </tr>\n",
       "    <tr>\n",
       "      <th>2</th>\n",
       "      <td>The Normans (Norman: Nourmands; French: Norman...</td>\n",
       "      <td>Who was the leader of the Normans?</td>\n",
       "      <td>rollo</td>\n",
       "      <td>[In what country is Normandy located?, When we...</td>\n",
       "    </tr>\n",
       "    <tr>\n",
       "      <th>3</th>\n",
       "      <td>The Normans (Norman: Nourmands; French: Norman...</td>\n",
       "      <td>What was the name of the nation that gave the...</td>\n",
       "      <td>normans</td>\n",
       "      <td>[In what country is Normandy located?, When we...</td>\n",
       "    </tr>\n",
       "    <tr>\n",
       "      <th>4</th>\n",
       "      <td>The Normans (Norman: Nourmands; French: Norman...</td>\n",
       "      <td>What did the Normans come from?</td>\n",
       "      <td>norse ( \" norman \" comes from \" norseman \" ) r...</td>\n",
       "      <td>[In what country is Normandy located?, When we...</td>\n",
       "    </tr>\n",
       "    <tr>\n",
       "      <th>...</th>\n",
       "      <td>...</td>\n",
       "      <td>...</td>\n",
       "      <td>...</td>\n",
       "      <td>...</td>\n",
       "    </tr>\n",
       "    <tr>\n",
       "      <th>6628</th>\n",
       "      <td>The pound-force has a metric counterpart, less...</td>\n",
       "      <td>What is the kilogram-force equivalent to?</td>\n",
       "      <td>[CLS]</td>\n",
       "      <td>[What is the metric term less used than the Ne...</td>\n",
       "    </tr>\n",
       "    <tr>\n",
       "      <th>6629</th>\n",
       "      <td>The pound-force has a metric counterpart, less...</td>\n",
       "      <td>What is the mug?</td>\n",
       "      <td>metric slug</td>\n",
       "      <td>[What is the metric term less used than the Ne...</td>\n",
       "    </tr>\n",
       "    <tr>\n",
       "      <th>6630</th>\n",
       "      <td>The pound-force has a metric counterpart, less...</td>\n",
       "      <td>What is the ball?</td>\n",
       "      <td>[CLS]</td>\n",
       "      <td>[What is the metric term less used than the Ne...</td>\n",
       "    </tr>\n",
       "    <tr>\n",
       "      <th>6631</th>\n",
       "      <td>The pound-force has a metric counterpart, less...</td>\n",
       "      <td>What is the kip?</td>\n",
       "      <td>1000 lbf</td>\n",
       "      <td>[What is the metric term less used than the Ne...</td>\n",
       "    </tr>\n",
       "    <tr>\n",
       "      <th>6632</th>\n",
       "      <td>The pound-force has a metric counterpart, less...</td>\n",
       "      <td>None</td>\n",
       "      <td>[CLS]</td>\n",
       "      <td>[What is the metric term less used than the Ne...</td>\n",
       "    </tr>\n",
       "  </tbody>\n",
       "</table>\n",
       "<p>6633 rows × 4 columns</p>\n",
       "</div>"
      ],
      "text/plain": [
       "                                                context  \\\n",
       "0     The Normans (Norman: Nourmands; French: Norman...   \n",
       "1     The Normans (Norman: Nourmands; French: Norman...   \n",
       "2     The Normans (Norman: Nourmands; French: Norman...   \n",
       "3     The Normans (Norman: Nourmands; French: Norman...   \n",
       "4     The Normans (Norman: Nourmands; French: Norman...   \n",
       "...                                                 ...   \n",
       "6628  The pound-force has a metric counterpart, less...   \n",
       "6629  The pound-force has a metric counterpart, less...   \n",
       "6630  The pound-force has a metric counterpart, less...   \n",
       "6631  The pound-force has a metric counterpart, less...   \n",
       "6632  The pound-force has a metric counterpart, less...   \n",
       "\n",
       "                                               question  \\\n",
       "0               What is the first name of the Normans?    \n",
       "1        What was the first name given to the Normans?    \n",
       "2                   Who was the leader of the Normans?    \n",
       "3      What was the name of the nation that gave the...   \n",
       "4                      What did the Normans come from?    \n",
       "...                                                 ...   \n",
       "6628         What is the kilogram-force equivalent to?    \n",
       "6629                                  What is the mug?    \n",
       "6630                                 What is the ball?    \n",
       "6631                                  What is the kip?    \n",
       "6632                                               None   \n",
       "\n",
       "                                                   pred  \\\n",
       "0                                             nourmands   \n",
       "1                                             nourmands   \n",
       "2                                                 rollo   \n",
       "3                                               normans   \n",
       "4     norse ( \" norman \" comes from \" norseman \" ) r...   \n",
       "...                                                 ...   \n",
       "6628                                              [CLS]   \n",
       "6629                                        metric slug   \n",
       "6630                                              [CLS]   \n",
       "6631                                           1000 lbf   \n",
       "6632                                              [CLS]   \n",
       "\n",
       "                                     original questions  \n",
       "0     [In what country is Normandy located?, When we...  \n",
       "1     [In what country is Normandy located?, When we...  \n",
       "2     [In what country is Normandy located?, When we...  \n",
       "3     [In what country is Normandy located?, When we...  \n",
       "4     [In what country is Normandy located?, When we...  \n",
       "...                                                 ...  \n",
       "6628  [What is the metric term less used than the Ne...  \n",
       "6629  [What is the metric term less used than the Ne...  \n",
       "6630  [What is the metric term less used than the Ne...  \n",
       "6631  [What is the metric term less used than the Ne...  \n",
       "6632  [What is the metric term less used than the Ne...  \n",
       "\n",
       "[6633 rows x 4 columns]"
      ]
     },
     "execution_count": 41,
     "metadata": {},
     "output_type": "execute_result"
    }
   ],
   "source": [
    "squad_gen"
   ]
  },
  {
   "cell_type": "code",
   "execution_count": 42,
   "metadata": {},
   "outputs": [],
   "source": [
    "squad_gen.to_csv('results/squad_gen_qa.csv')"
   ]
  },
  {
   "cell_type": "code",
   "execution_count": null,
   "metadata": {},
   "outputs": [],
   "source": []
  },
  {
   "cell_type": "markdown",
   "metadata": {},
   "source": [
    "# Generated QuAC Predictions"
   ]
  },
  {
   "cell_type": "code",
   "execution_count": 60,
   "metadata": {},
   "outputs": [],
   "source": [
    "quac_gen = pd.read_csv('results/quac_gen.csv', index_col=0)\n",
    "quac_gen.columns = ['context', 'question']"
   ]
  },
  {
   "cell_type": "code",
   "execution_count": 61,
   "metadata": {},
   "outputs": [
    {
     "data": {
      "text/html": [
       "<div>\n",
       "<style scoped>\n",
       "    .dataframe tbody tr th:only-of-type {\n",
       "        vertical-align: middle;\n",
       "    }\n",
       "\n",
       "    .dataframe tbody tr th {\n",
       "        vertical-align: top;\n",
       "    }\n",
       "\n",
       "    .dataframe thead th {\n",
       "        text-align: right;\n",
       "    }\n",
       "</style>\n",
       "<table border=\"1\" class=\"dataframe\">\n",
       "  <thead>\n",
       "    <tr style=\"text-align: right;\">\n",
       "      <th></th>\n",
       "      <th>context</th>\n",
       "      <th>question</th>\n",
       "    </tr>\n",
       "  </thead>\n",
       "  <tbody>\n",
       "    <tr>\n",
       "      <th>0</th>\n",
       "      <td>In May 1983, she married Nikos Karvelas, a com...</td>\n",
       "      <td>What is 2017?</td>\n",
       "    </tr>\n",
       "    <tr>\n",
       "      <th>1</th>\n",
       "      <td>In September 2016 Vladimir Markin, official sp...</td>\n",
       "      <td>Did the investigation do anything else intere...</td>\n",
       "    </tr>\n",
       "    <tr>\n",
       "      <th>2</th>\n",
       "      <td>Graham returned to the WWWF in April 1977 afte...</td>\n",
       "      <td>What was his debut?</td>\n",
       "    </tr>\n",
       "    <tr>\n",
       "      <th>3</th>\n",
       "      <td>In the early 1990s US federal agents were inve...</td>\n",
       "      <td>What was he going to do with the WWF?</td>\n",
       "    </tr>\n",
       "    <tr>\n",
       "      <th>4</th>\n",
       "      <td>During the aftermath of the murder of Stefan P...</td>\n",
       "      <td>Did he have any ties to the US?</td>\n",
       "    </tr>\n",
       "    <tr>\n",
       "      <th>...</th>\n",
       "      <td>...</td>\n",
       "      <td>...</td>\n",
       "    </tr>\n",
       "    <tr>\n",
       "      <th>1031</th>\n",
       "      <td>Red worked on new material for Until We Have F...</td>\n",
       "      <td>What is the album about?</td>\n",
       "    </tr>\n",
       "    <tr>\n",
       "      <th>1032</th>\n",
       "      <td>Red started work on their second album, Innoce...</td>\n",
       "      <td>did he tour with any other bands?</td>\n",
       "    </tr>\n",
       "    <tr>\n",
       "      <th>1033</th>\n",
       "      <td>Before 1948, most Palestinian artists were sel...</td>\n",
       "      <td>What was the inspiration for the designs?</td>\n",
       "    </tr>\n",
       "    <tr>\n",
       "      <th>1034</th>\n",
       "      <td>Reubens was born Paul Rubenfeld in Peekskill, ...</td>\n",
       "      <td>None</td>\n",
       "    </tr>\n",
       "    <tr>\n",
       "      <th>1035</th>\n",
       "      <td>In 1963, Major League Baseball expanded the st...</td>\n",
       "      <td>What else did he accomplish in his career?</td>\n",
       "    </tr>\n",
       "  </tbody>\n",
       "</table>\n",
       "<p>1036 rows × 2 columns</p>\n",
       "</div>"
      ],
      "text/plain": [
       "                                                context  \\\n",
       "0     In May 1983, she married Nikos Karvelas, a com...   \n",
       "1     In September 2016 Vladimir Markin, official sp...   \n",
       "2     Graham returned to the WWWF in April 1977 afte...   \n",
       "3     In the early 1990s US federal agents were inve...   \n",
       "4     During the aftermath of the murder of Stefan P...   \n",
       "...                                                 ...   \n",
       "1031  Red worked on new material for Until We Have F...   \n",
       "1032  Red started work on their second album, Innoce...   \n",
       "1033  Before 1948, most Palestinian artists were sel...   \n",
       "1034  Reubens was born Paul Rubenfeld in Peekskill, ...   \n",
       "1035  In 1963, Major League Baseball expanded the st...   \n",
       "\n",
       "                                               question  \n",
       "0                                        What is 2017?   \n",
       "1      Did the investigation do anything else intere...  \n",
       "2                                  What was his debut?   \n",
       "3                What was he going to do with the WWF?   \n",
       "4                      Did he have any ties to the US?   \n",
       "...                                                 ...  \n",
       "1031                          What is the album about?   \n",
       "1032                 did he tour with any other bands?   \n",
       "1033         What was the inspiration for the designs?   \n",
       "1034                                               None  \n",
       "1035        What else did he accomplish in his career?   \n",
       "\n",
       "[1036 rows x 2 columns]"
      ]
     },
     "execution_count": 61,
     "metadata": {},
     "output_type": "execute_result"
    }
   ],
   "source": [
    "quac_gen"
   ]
  },
  {
   "cell_type": "code",
   "execution_count": 62,
   "metadata": {},
   "outputs": [],
   "source": [
    "quac_gen_pred = perform_answering(quac_gen, base_quac_trained, tokenizer)"
   ]
  },
  {
   "cell_type": "code",
   "execution_count": 63,
   "metadata": {},
   "outputs": [],
   "source": [
    "quac_gen['pred'] = quac_gen_pred"
   ]
  },
  {
   "cell_type": "code",
   "execution_count": 64,
   "metadata": {},
   "outputs": [],
   "source": [
    "quac_gen['original questions'] = find_original_qs(quac_gen, quac_val_data)"
   ]
  },
  {
   "cell_type": "code",
   "execution_count": 65,
   "metadata": {},
   "outputs": [
    {
     "data": {
      "text/html": [
       "<div>\n",
       "<style scoped>\n",
       "    .dataframe tbody tr th:only-of-type {\n",
       "        vertical-align: middle;\n",
       "    }\n",
       "\n",
       "    .dataframe tbody tr th {\n",
       "        vertical-align: top;\n",
       "    }\n",
       "\n",
       "    .dataframe thead th {\n",
       "        text-align: right;\n",
       "    }\n",
       "</style>\n",
       "<table border=\"1\" class=\"dataframe\">\n",
       "  <thead>\n",
       "    <tr style=\"text-align: right;\">\n",
       "      <th></th>\n",
       "      <th>context</th>\n",
       "      <th>question</th>\n",
       "      <th>pred</th>\n",
       "      <th>original questions</th>\n",
       "    </tr>\n",
       "  </thead>\n",
       "  <tbody>\n",
       "    <tr>\n",
       "      <th>0</th>\n",
       "      <td>In May 1983, she married Nikos Karvelas, a com...</td>\n",
       "      <td>What is 2017?</td>\n",
       "      <td>cannotanswer</td>\n",
       "      <td>[what happened in 1983?, did they have any chi...</td>\n",
       "    </tr>\n",
       "    <tr>\n",
       "      <th>1</th>\n",
       "      <td>In September 2016 Vladimir Markin, official sp...</td>\n",
       "      <td>Did the investigation do anything else intere...</td>\n",
       "      <td></td>\n",
       "      <td>[Did they have any clues?, How did they target...</td>\n",
       "    </tr>\n",
       "    <tr>\n",
       "      <th>2</th>\n",
       "      <td>Graham returned to the WWWF in April 1977 afte...</td>\n",
       "      <td>What was his debut?</td>\n",
       "      <td>graham returned to the wwwf in april 1977 afte...</td>\n",
       "      <td>[Why did he return to the WWWF?, What was his ...</td>\n",
       "    </tr>\n",
       "    <tr>\n",
       "      <th>3</th>\n",
       "      <td>In the early 1990s US federal agents were inve...</td>\n",
       "      <td>What was he going to do with the WWF?</td>\n",
       "      <td>[CLS]</td>\n",
       "      <td>[what disputes did he have?, why?, did he win ...</td>\n",
       "    </tr>\n",
       "    <tr>\n",
       "      <th>4</th>\n",
       "      <td>During the aftermath of the murder of Stefan P...</td>\n",
       "      <td>Did he have any ties to the US?</td>\n",
       "      <td>the game manhunt was linked after the media wr...</td>\n",
       "      <td>[How was Jack Thompson's related to Manhunt?, ...</td>\n",
       "    </tr>\n",
       "    <tr>\n",
       "      <th>...</th>\n",
       "      <td>...</td>\n",
       "      <td>...</td>\n",
       "      <td>...</td>\n",
       "      <td>...</td>\n",
       "    </tr>\n",
       "    <tr>\n",
       "      <th>1031</th>\n",
       "      <td>Red worked on new material for Until We Have F...</td>\n",
       "      <td>What is the album about?</td>\n",
       "      <td>[CLS]</td>\n",
       "      <td>[what happened in 2010?, when was the album re...</td>\n",
       "    </tr>\n",
       "    <tr>\n",
       "      <th>1032</th>\n",
       "      <td>Red started work on their second album, Innoce...</td>\n",
       "      <td>did he tour with any other bands?</td>\n",
       "      <td>in march , the band toured with breaking benja...</td>\n",
       "      <td>[When was Innocence &amp; Instinct released?, What...</td>\n",
       "    </tr>\n",
       "    <tr>\n",
       "      <th>1033</th>\n",
       "      <td>Before 1948, most Palestinian artists were sel...</td>\n",
       "      <td>What was the inspiration for the designs?</td>\n",
       "      <td>cannotanswer</td>\n",
       "      <td>[Are there any other interesting aspects about...</td>\n",
       "    </tr>\n",
       "    <tr>\n",
       "      <th>1034</th>\n",
       "      <td>Reubens was born Paul Rubenfeld in Peekskill, ...</td>\n",
       "      <td>None</td>\n",
       "      <td>[CLS]</td>\n",
       "      <td>[What is Pee wee's playhouse?, when did the sh...</td>\n",
       "    </tr>\n",
       "    <tr>\n",
       "      <th>1035</th>\n",
       "      <td>In 1963, Major League Baseball expanded the st...</td>\n",
       "      <td>What else did he accomplish in his career?</td>\n",
       "      <td>[CLS]</td>\n",
       "      <td>[How did the 1963 season start for Sandy Koufa...</td>\n",
       "    </tr>\n",
       "  </tbody>\n",
       "</table>\n",
       "<p>1036 rows × 4 columns</p>\n",
       "</div>"
      ],
      "text/plain": [
       "                                                context  \\\n",
       "0     In May 1983, she married Nikos Karvelas, a com...   \n",
       "1     In September 2016 Vladimir Markin, official sp...   \n",
       "2     Graham returned to the WWWF in April 1977 afte...   \n",
       "3     In the early 1990s US federal agents were inve...   \n",
       "4     During the aftermath of the murder of Stefan P...   \n",
       "...                                                 ...   \n",
       "1031  Red worked on new material for Until We Have F...   \n",
       "1032  Red started work on their second album, Innoce...   \n",
       "1033  Before 1948, most Palestinian artists were sel...   \n",
       "1034  Reubens was born Paul Rubenfeld in Peekskill, ...   \n",
       "1035  In 1963, Major League Baseball expanded the st...   \n",
       "\n",
       "                                               question  \\\n",
       "0                                        What is 2017?    \n",
       "1      Did the investigation do anything else intere...   \n",
       "2                                  What was his debut?    \n",
       "3                What was he going to do with the WWF?    \n",
       "4                      Did he have any ties to the US?    \n",
       "...                                                 ...   \n",
       "1031                          What is the album about?    \n",
       "1032                 did he tour with any other bands?    \n",
       "1033         What was the inspiration for the designs?    \n",
       "1034                                               None   \n",
       "1035        What else did he accomplish in his career?    \n",
       "\n",
       "                                                   pred  \\\n",
       "0                                          cannotanswer   \n",
       "1                                                         \n",
       "2     graham returned to the wwwf in april 1977 afte...   \n",
       "3                                                 [CLS]   \n",
       "4     the game manhunt was linked after the media wr...   \n",
       "...                                                 ...   \n",
       "1031                                              [CLS]   \n",
       "1032  in march , the band toured with breaking benja...   \n",
       "1033                                       cannotanswer   \n",
       "1034                                              [CLS]   \n",
       "1035                                              [CLS]   \n",
       "\n",
       "                                     original questions  \n",
       "0     [what happened in 1983?, did they have any chi...  \n",
       "1     [Did they have any clues?, How did they target...  \n",
       "2     [Why did he return to the WWWF?, What was his ...  \n",
       "3     [what disputes did he have?, why?, did he win ...  \n",
       "4     [How was Jack Thompson's related to Manhunt?, ...  \n",
       "...                                                 ...  \n",
       "1031  [what happened in 2010?, when was the album re...  \n",
       "1032  [When was Innocence & Instinct released?, What...  \n",
       "1033  [Are there any other interesting aspects about...  \n",
       "1034  [What is Pee wee's playhouse?, when did the sh...  \n",
       "1035  [How did the 1963 season start for Sandy Koufa...  \n",
       "\n",
       "[1036 rows x 4 columns]"
      ]
     },
     "execution_count": 65,
     "metadata": {},
     "output_type": "execute_result"
    }
   ],
   "source": [
    "quac_gen"
   ]
  },
  {
   "cell_type": "code",
   "execution_count": 66,
   "metadata": {},
   "outputs": [],
   "source": [
    "quac_gen.to_csv('results/quac_gen_qa.csv')"
   ]
  },
  {
   "cell_type": "code",
   "execution_count": null,
   "metadata": {},
   "outputs": [],
   "source": []
  },
  {
   "cell_type": "markdown",
   "metadata": {},
   "source": [
    "## QuAC Predictions with SQuAD"
   ]
  },
  {
   "cell_type": "code",
   "execution_count": 68,
   "metadata": {},
   "outputs": [
    {
     "data": {
      "text/html": [
       "<div>\n",
       "<style scoped>\n",
       "    .dataframe tbody tr th:only-of-type {\n",
       "        vertical-align: middle;\n",
       "    }\n",
       "\n",
       "    .dataframe tbody tr th {\n",
       "        vertical-align: top;\n",
       "    }\n",
       "\n",
       "    .dataframe thead th {\n",
       "        text-align: right;\n",
       "    }\n",
       "</style>\n",
       "<table border=\"1\" class=\"dataframe\">\n",
       "  <thead>\n",
       "    <tr style=\"text-align: right;\">\n",
       "      <th></th>\n",
       "      <th>context</th>\n",
       "      <th>question</th>\n",
       "    </tr>\n",
       "  </thead>\n",
       "  <tbody>\n",
       "    <tr>\n",
       "      <th>0</th>\n",
       "      <td>In May 1983, she married Nikos Karvelas, a com...</td>\n",
       "      <td>What is 2017?</td>\n",
       "    </tr>\n",
       "    <tr>\n",
       "      <th>1</th>\n",
       "      <td>In September 2016 Vladimir Markin, official sp...</td>\n",
       "      <td>Did the investigation do anything else intere...</td>\n",
       "    </tr>\n",
       "    <tr>\n",
       "      <th>2</th>\n",
       "      <td>Graham returned to the WWWF in April 1977 afte...</td>\n",
       "      <td>What was his debut?</td>\n",
       "    </tr>\n",
       "    <tr>\n",
       "      <th>3</th>\n",
       "      <td>In the early 1990s US federal agents were inve...</td>\n",
       "      <td>What was he going to do with the WWF?</td>\n",
       "    </tr>\n",
       "    <tr>\n",
       "      <th>4</th>\n",
       "      <td>During the aftermath of the murder of Stefan P...</td>\n",
       "      <td>Did he have any ties to the US?</td>\n",
       "    </tr>\n",
       "    <tr>\n",
       "      <th>...</th>\n",
       "      <td>...</td>\n",
       "      <td>...</td>\n",
       "    </tr>\n",
       "    <tr>\n",
       "      <th>1031</th>\n",
       "      <td>Red worked on new material for Until We Have F...</td>\n",
       "      <td>What is the album about?</td>\n",
       "    </tr>\n",
       "    <tr>\n",
       "      <th>1032</th>\n",
       "      <td>Red started work on their second album, Innoce...</td>\n",
       "      <td>did he tour with any other bands?</td>\n",
       "    </tr>\n",
       "    <tr>\n",
       "      <th>1033</th>\n",
       "      <td>Before 1948, most Palestinian artists were sel...</td>\n",
       "      <td>What was the inspiration for the designs?</td>\n",
       "    </tr>\n",
       "    <tr>\n",
       "      <th>1034</th>\n",
       "      <td>Reubens was born Paul Rubenfeld in Peekskill, ...</td>\n",
       "      <td>None</td>\n",
       "    </tr>\n",
       "    <tr>\n",
       "      <th>1035</th>\n",
       "      <td>In 1963, Major League Baseball expanded the st...</td>\n",
       "      <td>What else did he accomplish in his career?</td>\n",
       "    </tr>\n",
       "  </tbody>\n",
       "</table>\n",
       "<p>1036 rows × 2 columns</p>\n",
       "</div>"
      ],
      "text/plain": [
       "                                                context  \\\n",
       "0     In May 1983, she married Nikos Karvelas, a com...   \n",
       "1     In September 2016 Vladimir Markin, official sp...   \n",
       "2     Graham returned to the WWWF in April 1977 afte...   \n",
       "3     In the early 1990s US federal agents were inve...   \n",
       "4     During the aftermath of the murder of Stefan P...   \n",
       "...                                                 ...   \n",
       "1031  Red worked on new material for Until We Have F...   \n",
       "1032  Red started work on their second album, Innoce...   \n",
       "1033  Before 1948, most Palestinian artists were sel...   \n",
       "1034  Reubens was born Paul Rubenfeld in Peekskill, ...   \n",
       "1035  In 1963, Major League Baseball expanded the st...   \n",
       "\n",
       "                                               question  \n",
       "0                                        What is 2017?   \n",
       "1      Did the investigation do anything else intere...  \n",
       "2                                  What was his debut?   \n",
       "3                What was he going to do with the WWF?   \n",
       "4                      Did he have any ties to the US?   \n",
       "...                                                 ...  \n",
       "1031                          What is the album about?   \n",
       "1032                 did he tour with any other bands?   \n",
       "1033         What was the inspiration for the designs?   \n",
       "1034                                               None  \n",
       "1035        What else did he accomplish in his career?   \n",
       "\n",
       "[1036 rows x 2 columns]"
      ]
     },
     "execution_count": 68,
     "metadata": {},
     "output_type": "execute_result"
    }
   ],
   "source": [
    "quac_gen_squad = quac_gen[['context', 'question']].copy()\n",
    "quac_gen_squad"
   ]
  },
  {
   "cell_type": "code",
   "execution_count": 69,
   "metadata": {},
   "outputs": [],
   "source": [
    "quac_squad_pred = perform_answering(quac_gen_squad, base_squad_trained, tokenizer)"
   ]
  },
  {
   "cell_type": "code",
   "execution_count": 70,
   "metadata": {},
   "outputs": [],
   "source": [
    "quac_gen_squad['pred'] = quac_squad_pred"
   ]
  },
  {
   "cell_type": "code",
   "execution_count": 71,
   "metadata": {},
   "outputs": [],
   "source": [
    "quac_gen_squad['original questions'] = quac_gen['original questions']"
   ]
  },
  {
   "cell_type": "code",
   "execution_count": 72,
   "metadata": {},
   "outputs": [
    {
     "data": {
      "text/html": [
       "<div>\n",
       "<style scoped>\n",
       "    .dataframe tbody tr th:only-of-type {\n",
       "        vertical-align: middle;\n",
       "    }\n",
       "\n",
       "    .dataframe tbody tr th {\n",
       "        vertical-align: top;\n",
       "    }\n",
       "\n",
       "    .dataframe thead th {\n",
       "        text-align: right;\n",
       "    }\n",
       "</style>\n",
       "<table border=\"1\" class=\"dataframe\">\n",
       "  <thead>\n",
       "    <tr style=\"text-align: right;\">\n",
       "      <th></th>\n",
       "      <th>context</th>\n",
       "      <th>question</th>\n",
       "      <th>pred</th>\n",
       "      <th>original questions</th>\n",
       "    </tr>\n",
       "  </thead>\n",
       "  <tbody>\n",
       "    <tr>\n",
       "      <th>0</th>\n",
       "      <td>In May 1983, she married Nikos Karvelas, a com...</td>\n",
       "      <td>What is 2017?</td>\n",
       "      <td>[CLS]</td>\n",
       "      <td>[what happened in 1983?, did they have any chi...</td>\n",
       "    </tr>\n",
       "    <tr>\n",
       "      <th>1</th>\n",
       "      <td>In September 2016 Vladimir Markin, official sp...</td>\n",
       "      <td>Did the investigation do anything else intere...</td>\n",
       "      <td>included the killing of anna politkovskaya amo...</td>\n",
       "      <td>[Did they have any clues?, How did they target...</td>\n",
       "    </tr>\n",
       "    <tr>\n",
       "      <th>2</th>\n",
       "      <td>Graham returned to the WWWF in April 1977 afte...</td>\n",
       "      <td>What was his debut?</td>\n",
       "      <td>baltimore , maryland</td>\n",
       "      <td>[Why did he return to the WWWF?, What was his ...</td>\n",
       "    </tr>\n",
       "    <tr>\n",
       "      <th>3</th>\n",
       "      <td>In the early 1990s US federal agents were inve...</td>\n",
       "      <td>What was he going to do with the WWF?</td>\n",
       "      <td>sold his hall of fame ring on ebay to help pay...</td>\n",
       "      <td>[what disputes did he have?, why?, did he win ...</td>\n",
       "    </tr>\n",
       "    <tr>\n",
       "      <th>4</th>\n",
       "      <td>During the aftermath of the murder of Stefan P...</td>\n",
       "      <td>Did he have any ties to the US?</td>\n",
       "      <td>the police officially denied any link</td>\n",
       "      <td>[How was Jack Thompson's related to Manhunt?, ...</td>\n",
       "    </tr>\n",
       "    <tr>\n",
       "      <th>...</th>\n",
       "      <td>...</td>\n",
       "      <td>...</td>\n",
       "      <td>...</td>\n",
       "      <td>...</td>\n",
       "    </tr>\n",
       "    <tr>\n",
       "      <th>1031</th>\n",
       "      <td>Red worked on new material for Until We Have F...</td>\n",
       "      <td>What is the album about?</td>\n",
       "      <td>novel</td>\n",
       "      <td>[what happened in 2010?, when was the album re...</td>\n",
       "    </tr>\n",
       "    <tr>\n",
       "      <th>1032</th>\n",
       "      <td>Red started work on their second album, Innoce...</td>\n",
       "      <td>did he tour with any other bands?</td>\n",
       "      <td>[CLS]</td>\n",
       "      <td>[When was Innocence &amp; Instinct released?, What...</td>\n",
       "    </tr>\n",
       "    <tr>\n",
       "      <th>1033</th>\n",
       "      <td>Before 1948, most Palestinian artists were sel...</td>\n",
       "      <td>What was the inspiration for the designs?</td>\n",
       "      <td>[CLS]</td>\n",
       "      <td>[Are there any other interesting aspects about...</td>\n",
       "    </tr>\n",
       "    <tr>\n",
       "      <th>1034</th>\n",
       "      <td>Reubens was born Paul Rubenfeld in Peekskill, ...</td>\n",
       "      <td>None</td>\n",
       "      <td>[CLS]</td>\n",
       "      <td>[What is Pee wee's playhouse?, when did the sh...</td>\n",
       "    </tr>\n",
       "    <tr>\n",
       "      <th>1035</th>\n",
       "      <td>In 1963, Major League Baseball expanded the st...</td>\n",
       "      <td>What else did he accomplish in his career?</td>\n",
       "      <td>reduced the walks - given - up - to - batters ...</td>\n",
       "      <td>[How did the 1963 season start for Sandy Koufa...</td>\n",
       "    </tr>\n",
       "  </tbody>\n",
       "</table>\n",
       "<p>1036 rows × 4 columns</p>\n",
       "</div>"
      ],
      "text/plain": [
       "                                                context  \\\n",
       "0     In May 1983, she married Nikos Karvelas, a com...   \n",
       "1     In September 2016 Vladimir Markin, official sp...   \n",
       "2     Graham returned to the WWWF in April 1977 afte...   \n",
       "3     In the early 1990s US federal agents were inve...   \n",
       "4     During the aftermath of the murder of Stefan P...   \n",
       "...                                                 ...   \n",
       "1031  Red worked on new material for Until We Have F...   \n",
       "1032  Red started work on their second album, Innoce...   \n",
       "1033  Before 1948, most Palestinian artists were sel...   \n",
       "1034  Reubens was born Paul Rubenfeld in Peekskill, ...   \n",
       "1035  In 1963, Major League Baseball expanded the st...   \n",
       "\n",
       "                                               question  \\\n",
       "0                                        What is 2017?    \n",
       "1      Did the investigation do anything else intere...   \n",
       "2                                  What was his debut?    \n",
       "3                What was he going to do with the WWF?    \n",
       "4                      Did he have any ties to the US?    \n",
       "...                                                 ...   \n",
       "1031                          What is the album about?    \n",
       "1032                 did he tour with any other bands?    \n",
       "1033         What was the inspiration for the designs?    \n",
       "1034                                               None   \n",
       "1035        What else did he accomplish in his career?    \n",
       "\n",
       "                                                   pred  \\\n",
       "0                                                 [CLS]   \n",
       "1     included the killing of anna politkovskaya amo...   \n",
       "2                                  baltimore , maryland   \n",
       "3     sold his hall of fame ring on ebay to help pay...   \n",
       "4                 the police officially denied any link   \n",
       "...                                                 ...   \n",
       "1031                                              novel   \n",
       "1032                                              [CLS]   \n",
       "1033                                              [CLS]   \n",
       "1034                                              [CLS]   \n",
       "1035  reduced the walks - given - up - to - batters ...   \n",
       "\n",
       "                                     original questions  \n",
       "0     [what happened in 1983?, did they have any chi...  \n",
       "1     [Did they have any clues?, How did they target...  \n",
       "2     [Why did he return to the WWWF?, What was his ...  \n",
       "3     [what disputes did he have?, why?, did he win ...  \n",
       "4     [How was Jack Thompson's related to Manhunt?, ...  \n",
       "...                                                 ...  \n",
       "1031  [what happened in 2010?, when was the album re...  \n",
       "1032  [When was Innocence & Instinct released?, What...  \n",
       "1033  [Are there any other interesting aspects about...  \n",
       "1034  [What is Pee wee's playhouse?, when did the sh...  \n",
       "1035  [How did the 1963 season start for Sandy Koufa...  \n",
       "\n",
       "[1036 rows x 4 columns]"
      ]
     },
     "execution_count": 72,
     "metadata": {},
     "output_type": "execute_result"
    }
   ],
   "source": [
    "quac_gen_squad"
   ]
  },
  {
   "cell_type": "code",
   "execution_count": 73,
   "metadata": {},
   "outputs": [],
   "source": [
    "quac_gen_squad.to_csv('results/quac_squad_gen_qa.csv')"
   ]
  },
  {
   "cell_type": "code",
   "execution_count": null,
   "metadata": {},
   "outputs": [],
   "source": []
  }
 ],
 "metadata": {
  "kernelspec": {
   "display_name": "Python 3 (ipykernel)",
   "language": "python",
   "name": "python3"
  },
  "language_info": {
   "codemirror_mode": {
    "name": "ipython",
    "version": 3
   },
   "file_extension": ".py",
   "mimetype": "text/x-python",
   "name": "python",
   "nbconvert_exporter": "python",
   "pygments_lexer": "ipython3",
   "version": "3.9.13"
  }
 },
 "nbformat": 4,
 "nbformat_minor": 4
}
