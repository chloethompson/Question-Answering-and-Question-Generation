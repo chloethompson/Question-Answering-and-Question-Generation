{
 "cells": [
  {
   "cell_type": "code",
   "execution_count": 2,
   "metadata": {},
   "outputs": [],
   "source": [
    "import pandas as pd \n",
    "import json"
   ]
  },
  {
   "cell_type": "code",
   "execution_count": 3,
   "metadata": {},
   "outputs": [],
   "source": [
    "def unpack_json(data, column):\n",
    "    contexts = []\n",
    "    questions = []\n",
    "    answers_text = []\n",
    "    answers_start = []\n",
    "    for i in range(data.shape[0]):\n",
    "        topic = data.iloc[i,column]['paragraphs']\n",
    "        for sub_para in topic:\n",
    "            for q_a in sub_para['qas']:\n",
    "                if(q_a['answers']):\n",
    "                    questions.append(q_a['question'])\n",
    "                    answers_start.append(q_a['answers'][0]['answer_start'])\n",
    "                    answers_text.append(q_a['answers'][0]['text'])\n",
    "                    contexts.append(sub_para['context'])   \n",
    "    return contexts, questions, answers_text, answers_start"
   ]
  },
  {
   "cell_type": "code",
   "execution_count": 12,
   "metadata": {},
   "outputs": [],
   "source": [
    "def build_dataset(contexts, questions, dest_file, drop):\n",
    "    \n",
    "    clean_contexts = []\n",
    "    for item in contexts:\n",
    "        clean_contexts.append(item.replace(\"\\n\", \"\"))\n",
    "    \n",
    "    lists = {'context':clean_contexts, 'questions':questions}\n",
    "    gpt_data = pd.DataFrame(lists)\n",
    "    \n",
    "    # ie if this is a testing data file then drop duplicate texts\n",
    "    if(drop == 1):\n",
    "        gpt_data = gpt_data.drop_duplicates(subset='context', keep='first')\n",
    "    \n",
    "    gpt_data['combined'] = gpt_data.agg('<|startoftext|> [CONTEXT]: {0[context]} [QUESTION]: {0[questions]} <|endoftext|>\\n'.format, axis=1)\n",
    "\n",
    "    str_gpt2 = ''.join(map(str, gpt_data.combined.values))\n",
    "    \n",
    "    f = open(dest_file, 'w')\n",
    "\n",
    "    f.write(str_gpt2)\n",
    "    "
   ]
  },
  {
   "cell_type": "markdown",
   "metadata": {},
   "source": [
    "## SQuAD Pre-processing"
   ]
  },
  {
   "cell_type": "code",
   "execution_count": 13,
   "metadata": {},
   "outputs": [],
   "source": [
    "training = json.load(open('data/SQUAD/train-v2.0.json'))\n",
    "train_df = pd.DataFrame(training)\n",
    "\n",
    "testing = json.load(open('data/SQUAD/dev-v2.0.json'))\n",
    "test_df = pd.DataFrame(testing)"
   ]
  },
  {
   "cell_type": "code",
   "execution_count": 14,
   "metadata": {},
   "outputs": [],
   "source": [
    "contexts, questions, answers_text, answers_start = unpack_json(train_df, 1)"
   ]
  },
  {
   "cell_type": "code",
   "execution_count": 15,
   "metadata": {},
   "outputs": [],
   "source": [
    "build_dataset(contexts, questions, \"data/squad_train.txt\", 0)"
   ]
  },
  {
   "cell_type": "code",
   "execution_count": 16,
   "metadata": {},
   "outputs": [],
   "source": [
    "contexts, questions, answers_text, answers_start = unpack_json(test_df, 1)"
   ]
  },
  {
   "cell_type": "code",
   "execution_count": 17,
   "metadata": {},
   "outputs": [],
   "source": [
    "build_dataset(contexts, questions, \"data/squad_test.txt\", 1)"
   ]
  },
  {
   "cell_type": "markdown",
   "metadata": {},
   "source": [
    "## QuAC Pre-processing "
   ]
  },
  {
   "cell_type": "code",
   "execution_count": 18,
   "metadata": {},
   "outputs": [],
   "source": [
    "training = json.load(open('data/QUAC/train_v0.2_edited.json'))\n",
    "train_df = pd.DataFrame(training)\n",
    "\n",
    "testing = json.load(open('data/QUAC/val_v0.2_edited.json'))\n",
    "test_df = pd.DataFrame(testing)"
   ]
  },
  {
   "cell_type": "code",
   "execution_count": 19,
   "metadata": {},
   "outputs": [],
   "source": [
    "contexts, questions, answers_text, answers_start = unpack_json(train_df, 1)"
   ]
  },
  {
   "cell_type": "code",
   "execution_count": 20,
   "metadata": {},
   "outputs": [],
   "source": [
    "build_dataset(contexts, questions, \"data/quac_train.txt\", 0)"
   ]
  },
  {
   "cell_type": "code",
   "execution_count": 21,
   "metadata": {},
   "outputs": [],
   "source": [
    "contexts, questions, answers_text, answers_start = unpack_json(test_df, 1)"
   ]
  },
  {
   "cell_type": "code",
   "execution_count": 22,
   "metadata": {},
   "outputs": [],
   "source": [
    "build_dataset(contexts, questions, \"data/quac_test.txt\", 1)"
   ]
  },
  {
   "cell_type": "code",
   "execution_count": null,
   "metadata": {},
   "outputs": [],
   "source": []
  }
 ],
 "metadata": {
  "kernelspec": {
   "display_name": "Python 3 (ipykernel)",
   "language": "python",
   "name": "python3"
  },
  "language_info": {
   "codemirror_mode": {
    "name": "ipython",
    "version": 3
   },
   "file_extension": ".py",
   "mimetype": "text/x-python",
   "name": "python",
   "nbconvert_exporter": "python",
   "pygments_lexer": "ipython3",
   "version": "3.9.13"
  }
 },
 "nbformat": 4,
 "nbformat_minor": 4
}
