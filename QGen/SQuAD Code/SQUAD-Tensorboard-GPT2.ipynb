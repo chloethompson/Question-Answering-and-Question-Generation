{
 "cells": [
  {
   "cell_type": "code",
   "execution_count": 1,
   "metadata": {
    "scrolled": true
   },
   "outputs": [
    {
     "name": "stdout",
     "output_type": "stream",
     "text": [
      "Requirement already satisfied: tensorboard in /home/ec2-user/anaconda3/envs/tensorflow_p36/lib/python3.6/site-packages (1.15.0)\n",
      "Requirement already satisfied: numpy>=1.12.0 in /home/ec2-user/anaconda3/envs/tensorflow_p36/lib/python3.6/site-packages (from tensorboard) (1.18.5)\n",
      "Requirement already satisfied: werkzeug>=0.11.15 in /home/ec2-user/anaconda3/envs/tensorflow_p36/lib/python3.6/site-packages (from tensorboard) (1.0.1)\n",
      "Requirement already satisfied: protobuf>=3.6.0 in /home/ec2-user/anaconda3/envs/tensorflow_p36/lib/python3.6/site-packages (from tensorboard) (3.15.2)\n",
      "Requirement already satisfied: markdown>=2.6.8 in /home/ec2-user/anaconda3/envs/tensorflow_p36/lib/python3.6/site-packages (from tensorboard) (3.3.4)\n",
      "Requirement already satisfied: six>=1.10.0 in /home/ec2-user/anaconda3/envs/tensorflow_p36/lib/python3.6/site-packages (from tensorboard) (1.15.0)\n",
      "Requirement already satisfied: absl-py>=0.4 in /home/ec2-user/anaconda3/envs/tensorflow_p36/lib/python3.6/site-packages (from tensorboard) (0.11.0)\n",
      "Requirement already satisfied: wheel>=0.26 in /home/ec2-user/anaconda3/envs/tensorflow_p36/lib/python3.6/site-packages (from tensorboard) (0.36.2)\n",
      "Requirement already satisfied: setuptools>=41.0.0 in /home/ec2-user/anaconda3/envs/tensorflow_p36/lib/python3.6/site-packages (from tensorboard) (49.6.0.post20210108)\n",
      "Requirement already satisfied: grpcio>=1.6.3 in /home/ec2-user/anaconda3/envs/tensorflow_p36/lib/python3.6/site-packages (from tensorboard) (1.31.0)\n",
      "Requirement already satisfied: importlib-metadata in /home/ec2-user/anaconda3/envs/tensorflow_p36/lib/python3.6/site-packages (from markdown>=2.6.8->tensorboard) (3.7.0)\n",
      "Requirement already satisfied: zipp>=0.5 in /home/ec2-user/anaconda3/envs/tensorflow_p36/lib/python3.6/site-packages (from importlib-metadata->markdown>=2.6.8->tensorboard) (3.4.0)\n",
      "Requirement already satisfied: typing-extensions>=3.6.4 in /home/ec2-user/anaconda3/envs/tensorflow_p36/lib/python3.6/site-packages (from importlib-metadata->markdown>=2.6.8->tensorboard) (3.7.4.3)\n",
      "Collecting torch\n",
      "  Downloading torch-1.8.0-cp36-cp36m-manylinux1_x86_64.whl (735.5 MB)\n",
      "\u001b[K     |████████████████████████████████| 735.5 MB 2.1 kB/s eta 0:00:012     |██████████                      | 229.4 MB 62.9 MB/s eta 0:00:09     |███████████▉                    | 270.9 MB 62.9 MB/s eta 0:00:08     |████████████                    | 274.7 MB 62.9 MB/s eta 0:00:08��█▏            | 441.0 MB 78.3 MB/s eta 0:00:04     |███████████████████████▎        | 533.8 MB 75.0 MB/s eta 0:00:03\n",
      "\u001b[?25hRequirement already satisfied: dataclasses in /home/ec2-user/anaconda3/envs/tensorflow_p36/lib/python3.6/site-packages (from torch) (0.8)\n",
      "Requirement already satisfied: typing-extensions in /home/ec2-user/anaconda3/envs/tensorflow_p36/lib/python3.6/site-packages (from torch) (3.7.4.3)\n",
      "Requirement already satisfied: numpy in /home/ec2-user/anaconda3/envs/tensorflow_p36/lib/python3.6/site-packages (from torch) (1.18.5)\n",
      "Installing collected packages: torch\n",
      "Successfully installed torch-1.8.0\n"
     ]
    }
   ],
   "source": [
    "!pip install tensorboard\n",
    "!pip install torch "
   ]
  },
  {
   "cell_type": "code",
   "execution_count": 2,
   "metadata": {},
   "outputs": [],
   "source": [
    "import torch "
   ]
  },
  {
   "cell_type": "code",
   "execution_count": 4,
   "metadata": {},
   "outputs": [
    {
     "name": "stdout",
     "output_type": "stream",
     "text": [
      "WARNING:tensorflow:From /home/ec2-user/anaconda3/envs/tensorflow_p36/cpu/lib/python3.6/site-packages/tensorflow_core/__init__.py:1473: The name tf.estimator.inputs is deprecated. Please use tf.compat.v1.estimator.inputs instead.\n",
      "\n",
      "TensorBoard 1.15.0 at http://ip-172-16-122-161:6006/ (Press CTRL+C to quit)\n",
      "WARNING:tensorflow:FailedPreconditionError: checkpoint; Is a directory\n",
      "W0412 14:22:59.565724 140186897827584 checkpoint_management.py:288] FailedPreconditionError: checkpoint; Is a directory\n",
      "WARNING:tensorflow:checkpoint/../checkpoint: Checkpoint ignored\n",
      "W0412 14:22:59.565951 140186897827584 checkpoint_management.py:289] checkpoint/../checkpoint: Checkpoint ignored\n",
      "^C\n"
     ]
    }
   ],
   "source": [
    "!tensorboard --logdir=checkpoint/\n",
    "\n",
    "\n",
    "# Webpage Address: https://<sagemaker-notebook-name>.notebook.us-east-1.sagemaker.aws/proxy/6006/#scalars&_smoothingWeight=0"
   ]
  },
  {
   "cell_type": "code",
   "execution_count": 50,
   "metadata": {},
   "outputs": [],
   "source": [
    "from tensorboard.backend.event_processing.event_accumulator import EventAccumulator\n",
    "import json\n",
    "\n",
    "def extract_metrics(filename):\n",
    "\n",
    "    model_compare = []\n",
    "\n",
    "    with open(filename,'r') as f:\n",
    "        lines = f.readlines()\n",
    "        #print(lines)\n",
    "\n",
    "        json_str = str(lines[0]).replace(\"'\", '\"')\n",
    "        \n",
    "    return json.loads(json_str)\n",
    "\n",
    "def pull_final_loss(folder):\n",
    "    \n",
    "    sub_folds = os.listdir(folder)\n",
    "    sub_folds.remove('.ipynb_checkpoints')\n",
    "    \n",
    "    runs = []\n",
    "    params = []\n",
    "    steps = []\n",
    "    loss = []\n",
    "    \n",
    "    for f in sub_folds:\n",
    "        file = folder + f\n",
    "        \n",
    "        event_acc = EventAccumulator(file)\n",
    "        event_acc.Reload()\n",
    "\n",
    "\n",
    "        # E. g. get wall clock, number of steps and value for a scalar 'Accuracy'\n",
    "        w_times, step_nums, vals = zip(*event_acc.Scalars('loss'))\n",
    "        \n",
    "        runs.append(f)\n",
    "        steps.append(step_nums[len(step_nums)-1])\n",
    "        loss.append(vals[len(vals)-1])\n",
    "        \n",
    "        # get hyper param info\n",
    "        params.append(extract_metrics('results/Hypertuning/SQUAD/'+f+'.txt'))\n",
    "\n",
    "    loss_df = pd.DataFrame(list(zip(runs, params, steps, loss)), columns = ['Run', 'Parameters', 'Steps', 'Loss'])\n",
    "    \n",
    "    return loss_df\n",
    "\n",
    "\n",
    "losses = pull_final_loss('checkpoint/')\n",
    "losses.to_csv('GPT2_SQUAD.csv')"
   ]
  },
  {
   "cell_type": "code",
   "execution_count": 51,
   "metadata": {},
   "outputs": [],
   "source": []
  },
  {
   "cell_type": "code",
   "execution_count": 53,
   "metadata": {},
   "outputs": [],
   "source": []
  },
  {
   "cell_type": "code",
   "execution_count": null,
   "metadata": {},
   "outputs": [],
   "source": []
  }
 ],
 "metadata": {
  "kernelspec": {
   "display_name": "Python 3 (ipykernel)",
   "language": "python",
   "name": "python3"
  },
  "language_info": {
   "codemirror_mode": {
    "name": "ipython",
    "version": 3
   },
   "file_extension": ".py",
   "mimetype": "text/x-python",
   "name": "python",
   "nbconvert_exporter": "python",
   "pygments_lexer": "ipython3",
   "version": "3.9.13"
  }
 },
 "nbformat": 4,
 "nbformat_minor": 4
}
